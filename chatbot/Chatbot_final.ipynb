{
 "cells": [
  {
   "cell_type": "markdown",
   "metadata": {
    "id": "pJAWnBFlkE2w"
   },
   "source": [
    "# LSTM Bot\n",
    "\n",
    "## Project Overview\n",
    "\n",
    "In this project, I build a chatbot that you can converse with at the command line. The chatbot uses a Sequence to Sequence text generation architecture with an LSTM as it's memory unit. It uses pretrained word embeddings to improve the performance of the model.\n",
    "\n",
    "---\n",
    "\n",
    "\n",
    "\n",
    "A sequence to sequence model (Seq2Seq) has two components:\n",
    "- An Encoder consisting of an embedding layer and LSTM unit.\n",
    "- A Decoder consisting of an embedding layer, LSTM unit, and linear output unit.\n",
    "\n",
    "The Seq2Seq model works by accepting an input into the Encoder, passing the hidden state from the Encoder to the Decoder, which the Decoder uses to output a series of token predictions.\n",
    "\n",
    "## Dependencies\n",
    "\n",
    "- Pytorch\n",
    "- Numpy\n",
    "- Pandas\n",
    "- NLTK\n",
    "- Gzip\n",
    "- Gensim\n"
   ]
  },
  {
   "cell_type": "markdown",
   "metadata": {},
   "source": [
    "__Downloads__"
   ]
  },
  {
   "cell_type": "code",
   "execution_count": 1,
   "metadata": {},
   "outputs": [
    {
     "name": "stdout",
     "output_type": "stream",
     "text": [
      "Defaulting to user installation because normal site-packages is not writeable\n",
      "Collecting torchdata\n",
      "  Downloading torchdata-0.5.1-cp37-cp37m-manylinux_2_17_x86_64.manylinux2014_x86_64.whl (4.6 MB)\n",
      "\u001b[K     |████████████████████████████████| 4.6 MB 4.7 MB/s eta 0:00:01\n",
      "\u001b[?25hRequirement already satisfied: requests in /opt/conda/lib/python3.7/site-packages (from torchdata) (2.23.0)\n",
      "Collecting torch==1.13.1\n",
      "  Downloading torch-1.13.1-cp37-cp37m-manylinux1_x86_64.whl (887.5 MB)\n",
      "\u001b[K     |████████████████████████████████| 887.5 MB 5.7 kB/s  eta 0:00:01\n",
      "\u001b[?25hCollecting portalocker>=2.0.0\n",
      "  Downloading portalocker-2.7.0-py2.py3-none-any.whl (15 kB)\n",
      "Requirement already satisfied: urllib3>=1.25 in /opt/conda/lib/python3.7/site-packages (from torchdata) (1.25.7)\n",
      "Requirement already satisfied: certifi>=2017.4.17 in /opt/conda/lib/python3.7/site-packages (from requests->torchdata) (2019.11.28)\n",
      "Requirement already satisfied: idna<3,>=2.5 in /opt/conda/lib/python3.7/site-packages (from requests->torchdata) (2.9)\n",
      "Requirement already satisfied: chardet<4,>=3.0.2 in /opt/conda/lib/python3.7/site-packages (from requests->torchdata) (3.0.4)\n",
      "Collecting nvidia-cuda-runtime-cu11==11.7.99; platform_system == \"Linux\"\n",
      "  Downloading nvidia_cuda_runtime_cu11-11.7.99-py3-none-manylinux1_x86_64.whl (849 kB)\n",
      "\u001b[K     |████████████████████████████████| 849 kB 34.2 MB/s eta 0:00:01\n",
      "\u001b[?25hCollecting nvidia-cublas-cu11==11.10.3.66; platform_system == \"Linux\"\n",
      "  Downloading nvidia_cublas_cu11-11.10.3.66-py3-none-manylinux1_x86_64.whl (317.1 MB)\n",
      "\u001b[K     |████████████████████████████████| 317.1 MB 23 kB/s s eta 0:00:01               | 71.7 MB 36.8 MB/s eta 0:00:07\n",
      "\u001b[?25hRequirement already satisfied: typing-extensions in /opt/conda/lib/python3.7/site-packages (from torch==1.13.1->torchdata) (3.7.4.1)\n",
      "Collecting nvidia-cudnn-cu11==8.5.0.96; platform_system == \"Linux\"\n",
      "  Downloading nvidia_cudnn_cu11-8.5.0.96-2-py3-none-manylinux1_x86_64.whl (557.1 MB)\n",
      "\u001b[K     |████████████████████████████████| 557.1 MB 6.1 kB/s  eta 0:00:01\n",
      "\u001b[?25hCollecting nvidia-cuda-nvrtc-cu11==11.7.99; platform_system == \"Linux\"\n",
      "  Downloading nvidia_cuda_nvrtc_cu11-11.7.99-2-py3-none-manylinux1_x86_64.whl (21.0 MB)\n",
      "\u001b[K     |████████████████████████████████| 21.0 MB 36.3 MB/s eta 0:00:01\n",
      "\u001b[?25hRequirement already satisfied: wheel in /opt/conda/lib/python3.7/site-packages (from nvidia-cuda-runtime-cu11==11.7.99; platform_system == \"Linux\"->torch==1.13.1->torchdata) (0.34.2)\n",
      "Requirement already satisfied: setuptools in /opt/conda/lib/python3.7/site-packages (from nvidia-cuda-runtime-cu11==11.7.99; platform_system == \"Linux\"->torch==1.13.1->torchdata) (45.2.0.post20200209)\n",
      "\u001b[31mERROR: torchvision 0.10.0 has requirement torch==1.9.0, but you'll have torch 1.13.1 which is incompatible.\u001b[0m\n",
      "\u001b[31mERROR: torchtext 0.12.0 has requirement torch==1.11.0, but you'll have torch 1.13.1 which is incompatible.\u001b[0m\n",
      "Installing collected packages: nvidia-cuda-runtime-cu11, nvidia-cublas-cu11, nvidia-cudnn-cu11, nvidia-cuda-nvrtc-cu11, torch, portalocker, torchdata\n",
      "\u001b[33m  WARNING: The scripts convert-caffe2-to-onnx, convert-onnx-to-caffe2 and torchrun are installed in '/root/.local/bin' which is not on PATH.\n",
      "  Consider adding this directory to PATH or, if you prefer to suppress this warning, use --no-warn-script-location.\u001b[0m\n",
      "Successfully installed nvidia-cublas-cu11-11.10.3.66 nvidia-cuda-nvrtc-cu11-11.7.99 nvidia-cuda-runtime-cu11-11.7.99 nvidia-cudnn-cu11-8.5.0.96 portalocker-2.7.0 torch-1.13.1 torchdata-0.5.1\n",
      "Note: you may need to restart the kernel to use updated packages.\n",
      "Defaulting to user installation because normal site-packages is not writeable\n",
      "Collecting Cython\n",
      "  Downloading Cython-0.29.33-cp37-cp37m-manylinux_2_17_x86_64.manylinux2014_x86_64.manylinux_2_24_x86_64.whl (1.9 MB)\n",
      "\u001b[K     |████████████████████████████████| 1.9 MB 5.0 MB/s eta 0:00:01\n",
      "\u001b[?25hInstalling collected packages: Cython\n",
      "\u001b[33m  WARNING: The scripts cygdb, cython and cythonize are installed in '/root/.local/bin' which is not on PATH.\n",
      "  Consider adding this directory to PATH or, if you prefer to suppress this warning, use --no-warn-script-location.\u001b[0m\n",
      "Successfully installed Cython-0.29.33\n",
      "Note: you may need to restart the kernel to use updated packages.\n",
      "Defaulting to user installation because normal site-packages is not writeable\n",
      "Collecting typing-extensions\n",
      "  Downloading typing_extensions-4.4.0-py3-none-any.whl (26 kB)\n",
      "\u001b[31mERROR: torchvision 0.10.0 has requirement torch==1.9.0, but you'll have torch 1.13.1 which is incompatible.\u001b[0m\n",
      "\u001b[31mERROR: torchtext 0.12.0 has requirement torch==1.11.0, but you'll have torch 1.13.1 which is incompatible.\u001b[0m\n",
      "Installing collected packages: typing-extensions\n",
      "Successfully installed typing-extensions-4.4.0\n",
      "Note: you may need to restart the kernel to use updated packages.\n",
      "Defaulting to user installation because normal site-packages is not writeable\n",
      "Requirement already up-to-date: torch in /root/.local/lib/python3.7/site-packages (1.13.1)\n",
      "Requirement already satisfied, skipping upgrade: nvidia-cuda-runtime-cu11==11.7.99; platform_system == \"Linux\" in /root/.local/lib/python3.7/site-packages (from torch) (11.7.99)\n",
      "Requirement already satisfied, skipping upgrade: nvidia-cuda-nvrtc-cu11==11.7.99; platform_system == \"Linux\" in /root/.local/lib/python3.7/site-packages (from torch) (11.7.99)\n",
      "Requirement already satisfied, skipping upgrade: nvidia-cudnn-cu11==8.5.0.96; platform_system == \"Linux\" in /root/.local/lib/python3.7/site-packages (from torch) (8.5.0.96)\n",
      "Requirement already satisfied, skipping upgrade: nvidia-cublas-cu11==11.10.3.66; platform_system == \"Linux\" in /root/.local/lib/python3.7/site-packages (from torch) (11.10.3.66)\n",
      "Requirement already satisfied, skipping upgrade: typing-extensions in /root/.local/lib/python3.7/site-packages (from torch) (4.4.0)\n",
      "Requirement already satisfied, skipping upgrade: wheel in /opt/conda/lib/python3.7/site-packages (from nvidia-cuda-runtime-cu11==11.7.99; platform_system == \"Linux\"->torch) (0.34.2)\n",
      "Requirement already satisfied, skipping upgrade: setuptools in /opt/conda/lib/python3.7/site-packages (from nvidia-cuda-runtime-cu11==11.7.99; platform_system == \"Linux\"->torch) (45.2.0.post20200209)\n",
      "Note: you may need to restart the kernel to use updated packages.\n",
      "Defaulting to user installation because normal site-packages is not writeable\n",
      "Collecting torchtext==0.9.0\n",
      "  Downloading torchtext-0.9.0-cp37-cp37m-manylinux1_x86_64.whl (7.1 MB)\n",
      "\u001b[K     |████████████████████████████████| 7.1 MB 5.0 MB/s eta 0:00:01\n",
      "\u001b[?25hRequirement already satisfied: numpy in /opt/conda/lib/python3.7/site-packages (from torchtext==0.9.0) (1.21.2)\n",
      "Requirement already satisfied: tqdm in /opt/conda/lib/python3.7/site-packages (from torchtext==0.9.0) (4.43.0)\n",
      "Collecting torch==1.8.0\n",
      "  Downloading torch-1.8.0-cp37-cp37m-manylinux1_x86_64.whl (735.5 MB)\n",
      "\u001b[K     |████████████████████████████████| 735.5 MB 9.0 kB/s  eta 0:00:01\n",
      "\u001b[?25hRequirement already satisfied: requests in /opt/conda/lib/python3.7/site-packages (from torchtext==0.9.0) (2.23.0)\n",
      "Requirement already satisfied: typing-extensions in /root/.local/lib/python3.7/site-packages (from torch==1.8.0->torchtext==0.9.0) (4.4.0)\n",
      "Requirement already satisfied: idna<3,>=2.5 in /opt/conda/lib/python3.7/site-packages (from requests->torchtext==0.9.0) (2.9)\n",
      "Requirement already satisfied: urllib3!=1.25.0,!=1.25.1,<1.26,>=1.21.1 in /opt/conda/lib/python3.7/site-packages (from requests->torchtext==0.9.0) (1.25.7)\n",
      "Requirement already satisfied: chardet<4,>=3.0.2 in /opt/conda/lib/python3.7/site-packages (from requests->torchtext==0.9.0) (3.0.4)\n",
      "Requirement already satisfied: certifi>=2017.4.17 in /opt/conda/lib/python3.7/site-packages (from requests->torchtext==0.9.0) (2019.11.28)\n",
      "\u001b[31mERROR: torchdata 0.5.1 has requirement torch==1.13.1, but you'll have torch 1.8.0 which is incompatible.\u001b[0m\n",
      "\u001b[31mERROR: torchvision 0.10.0 has requirement torch==1.9.0, but you'll have torch 1.8.0 which is incompatible.\u001b[0m\n",
      "Installing collected packages: torch, torchtext\n",
      "  Attempting uninstall: torch\n",
      "    Found existing installation: torch 1.13.1\n",
      "    Uninstalling torch-1.13.1:\n",
      "      Successfully uninstalled torch-1.13.1\n",
      "\u001b[33m  WARNING: The scripts convert-caffe2-to-onnx and convert-onnx-to-caffe2 are installed in '/root/.local/bin' which is not on PATH.\n",
      "  Consider adding this directory to PATH or, if you prefer to suppress this warning, use --no-warn-script-location.\u001b[0m\n",
      "Successfully installed torch-1.8.0 torchtext-0.9.0\n",
      "Note: you may need to restart the kernel to use updated packages.\n"
     ]
    }
   ],
   "source": [
    "%pip install torchdata\n",
    "%pip install Cython\n",
    "%pip install typing-extensions --upgrade\n",
    "%pip install torch --upgrade\n",
    "%pip install torchtext==0.9.0"
   ]
  },
  {
   "cell_type": "markdown",
   "metadata": {},
   "source": [
    "_Restart the kernel_"
   ]
  },
  {
   "cell_type": "code",
   "execution_count": 2,
   "metadata": {},
   "outputs": [],
   "source": [
    "# initial imports\n",
    "import pandas as pd\n",
    "import numpy as np\n",
    "import matplotlib.pyplot as plt\n",
    "import matplotlib.ticker as ticker\n",
    "\n",
    "import time\n",
    "import math\n",
    "import random\n",
    "import re\n",
    "import unicodedata\n",
    "import nltk\n",
    "import string\n",
    "\n",
    "import torchtext\n",
    "import torch\n",
    "import torch.optim as optim\n",
    "import torch.nn as nn\n",
    "import gensim.downloader\n",
    "import torch.nn.functional as F"
   ]
  },
  {
   "cell_type": "code",
   "execution_count": 3,
   "metadata": {},
   "outputs": [],
   "source": [
    "# dataset download\n",
    "train, test = torchtext.datasets.SQuAD1(\"root\")"
   ]
  },
  {
   "cell_type": "markdown",
   "metadata": {},
   "source": [
    "The Squad 1 dataset contains 100k+ questions and answers based on over 500 articles. More information can be found [here](https://rajpurkar.github.io/SQuAD-explorer/)."
   ]
  },
  {
   "cell_type": "code",
   "execution_count": 4,
   "metadata": {},
   "outputs": [
    {
     "name": "stdout",
     "output_type": "stream",
     "text": [
      "Number of training data rows: 87599\n",
      "Number of test data rows: 10570\n"
     ]
    }
   ],
   "source": [
    "# check number of rows\n",
    "print(f\"Number of training data rows: {train.num_lines}\")\n",
    "print(f\"Number of test data rows: {test.num_lines}\")"
   ]
  },
  {
   "cell_type": "code",
   "execution_count": 5,
   "metadata": {
    "scrolled": true
   },
   "outputs": [
    {
     "name": "stdout",
     "output_type": "stream",
     "text": [
      "Question: To whom did the Virgin Mary allegedly appear in 1858 in Lourdes France?\n",
      "Answer: Saint Bernadette Soubirous\n"
     ]
    }
   ],
   "source": [
    "# print out example question\n",
    "for context, question, answer, answer_start in train:\n",
    "    print(f\"Question: {question}\")\n",
    "    print(f\"Answer: {answer[0]}\")\n",
    "    break"
   ]
  },
  {
   "cell_type": "code",
   "execution_count": 6,
   "metadata": {},
   "outputs": [],
   "source": [
    "# extract data into dataframe\n",
    "def convert_to_df(iterator):\n",
    "\n",
    "    questions, answers = [], []\n",
    "\n",
    "    for line in iterator:\n",
    "        _, question, answer, _ = line\n",
    "\n",
    "\n",
    "        questions.append(question)\n",
    "        answers.append(answer[0])\n",
    "\n",
    "    data_dict = {\n",
    "        \"question\": questions,\n",
    "        \"answer\": answers,\n",
    "    }\n",
    "\n",
    "    df = pd.DataFrame(data_dict)\n",
    "    \n",
    "    return df\n",
    "\n",
    "df_train = convert_to_df(train)\n",
    "df_test = convert_to_df(test)"
   ]
  },
  {
   "cell_type": "markdown",
   "metadata": {},
   "source": [
    "_Data Checks_"
   ]
  },
  {
   "cell_type": "code",
   "execution_count": 7,
   "metadata": {},
   "outputs": [
    {
     "name": "stdout",
     "output_type": "stream",
     "text": [
      "<class 'pandas.core.frame.DataFrame'>\n",
      "RangeIndex: 87598 entries, 0 to 87597\n",
      "Data columns (total 2 columns):\n",
      " #   Column    Non-Null Count  Dtype \n",
      "---  ------    --------------  ----- \n",
      " 0   question  87598 non-null  object\n",
      " 1   answer    87598 non-null  object\n",
      "dtypes: object(2)\n",
      "memory usage: 1.3+ MB\n",
      "None\n"
     ]
    }
   ],
   "source": [
    "print(df_train.info())"
   ]
  },
  {
   "cell_type": "code",
   "execution_count": 8,
   "metadata": {
    "scrolled": false
   },
   "outputs": [
    {
     "data": {
      "text/html": [
       "<div>\n",
       "<style scoped>\n",
       "    .dataframe tbody tr th:only-of-type {\n",
       "        vertical-align: middle;\n",
       "    }\n",
       "\n",
       "    .dataframe tbody tr th {\n",
       "        vertical-align: top;\n",
       "    }\n",
       "\n",
       "    .dataframe thead th {\n",
       "        text-align: right;\n",
       "    }\n",
       "</style>\n",
       "<table border=\"1\" class=\"dataframe\">\n",
       "  <thead>\n",
       "    <tr style=\"text-align: right;\">\n",
       "      <th></th>\n",
       "      <th>question</th>\n",
       "      <th>answer</th>\n",
       "    </tr>\n",
       "  </thead>\n",
       "  <tbody>\n",
       "    <tr>\n",
       "      <th>79532</th>\n",
       "      <td>How many tourist visas were granted in 2003?</td>\n",
       "      <td>300,000</td>\n",
       "    </tr>\n",
       "    <tr>\n",
       "      <th>39645</th>\n",
       "      <td>Which CBS correspondant graduated from The Med...</td>\n",
       "      <td>Richard Threlkeld</td>\n",
       "    </tr>\n",
       "    <tr>\n",
       "      <th>68742</th>\n",
       "      <td>Name the main airport?</td>\n",
       "      <td>Philadelphia International Airport (PHL)</td>\n",
       "    </tr>\n",
       "    <tr>\n",
       "      <th>11391</th>\n",
       "      <td>What year did Terminator Genisys debut?</td>\n",
       "      <td>2015</td>\n",
       "    </tr>\n",
       "    <tr>\n",
       "      <th>33264</th>\n",
       "      <td>Which town was the site of General von Steinme...</td>\n",
       "      <td>Spicheren</td>\n",
       "    </tr>\n",
       "    <tr>\n",
       "      <th>17007</th>\n",
       "      <td>What lines comprise the Beijing-Shanghai (Jing...</td>\n",
       "      <td>the old Jinpu and Huning Railways</td>\n",
       "    </tr>\n",
       "    <tr>\n",
       "      <th>35625</th>\n",
       "      <td>In what year was Athanasius consecrated?</td>\n",
       "      <td>326</td>\n",
       "    </tr>\n",
       "    <tr>\n",
       "      <th>49194</th>\n",
       "      <td>What were the followers of Jan Hus called?</td>\n",
       "      <td>Hussites</td>\n",
       "    </tr>\n",
       "    <tr>\n",
       "      <th>28425</th>\n",
       "      <td>What team did Barcelona beat to win La Liga fo...</td>\n",
       "      <td>Real Madrid</td>\n",
       "    </tr>\n",
       "    <tr>\n",
       "      <th>7003</th>\n",
       "      <td>For how many seasons were the three original j...</td>\n",
       "      <td>eight</td>\n",
       "    </tr>\n",
       "  </tbody>\n",
       "</table>\n",
       "</div>"
      ],
      "text/plain": [
       "                                                question  \\\n",
       "79532       How many tourist visas were granted in 2003?   \n",
       "39645  Which CBS correspondant graduated from The Med...   \n",
       "68742                             Name the main airport?   \n",
       "11391            What year did Terminator Genisys debut?   \n",
       "33264  Which town was the site of General von Steinme...   \n",
       "17007  What lines comprise the Beijing-Shanghai (Jing...   \n",
       "35625           In what year was Athanasius consecrated?   \n",
       "49194         What were the followers of Jan Hus called?   \n",
       "28425  What team did Barcelona beat to win La Liga fo...   \n",
       "7003   For how many seasons were the three original j...   \n",
       "\n",
       "                                         answer  \n",
       "79532                                   300,000  \n",
       "39645                         Richard Threlkeld  \n",
       "68742  Philadelphia International Airport (PHL)  \n",
       "11391                                      2015  \n",
       "33264                                 Spicheren  \n",
       "17007         the old Jinpu and Huning Railways  \n",
       "35625                                       326  \n",
       "49194                                  Hussites  \n",
       "28425                               Real Madrid  \n",
       "7003                                      eight  "
      ]
     },
     "execution_count": 8,
     "metadata": {},
     "output_type": "execute_result"
    }
   ],
   "source": [
    "# get a feel for what the data looks like\n",
    "df_train.sample(10)"
   ]
  },
  {
   "cell_type": "markdown",
   "metadata": {},
   "source": [
    "__Build a Vocab__"
   ]
  },
  {
   "cell_type": "code",
   "execution_count": 9,
   "metadata": {},
   "outputs": [],
   "source": [
    "SOS_token = 0\n",
    "EOS_token = 1\n",
    "\n",
    "class Vocab:\n",
    "    \"\"\" This vocabulary class cleans and indexes words.\n",
    "    \"\"\"\n",
    "    def __init__(self, name):\n",
    "        self.name = name\n",
    "        self.word2index = {\"<SOS>\": SOS_token, \"<EOS>\": EOS_token}\n",
    "        self.index2word = {SOS_token: \"<SOS>\", EOS_token: \"<EOS>\"}\n",
    "        self.word2count = {}\n",
    "        self.n_words = 2 # count SOS and EOS\n",
    "    \n",
    "    def addSentence(self, sentence):\n",
    "        for word in sentence.split(\" \"):\n",
    "            self.addWord(word)\n",
    "    \n",
    "    # Index words in our vocabulary\n",
    "    def addWord(self, word):\n",
    "        if word not in self.word2index: # if word not in index\n",
    "            self.word2index[word] = self.n_words # add word and word no to words dictionary\n",
    "            self.word2count[word] = 1 # initialise word count\n",
    "            self.index2word[self.n_words] = word # add word to index\n",
    "            self.n_words +=1\n",
    "        else:\n",
    "            self.word2count[word] += 1 # increment word count"
   ]
  },
  {
   "cell_type": "code",
   "execution_count": 10,
   "metadata": {},
   "outputs": [],
   "source": [
    "stemmer = nltk.stem.snowball.SnowballStemmer(\"english\")\n",
    "\n",
    "def normalizeString(s):\n",
    "    s = s.lower().split()\n",
    "    s = re.sub(r\"([.!?])\", r\" \\1\", s)\n",
    "    s = re.sub(r\"[^a-zA-Z.!?]+\", r\" \", s)\n",
    "    return s\n",
    "\n",
    "def prepare_text(sentence):\n",
    "    sentence = ''.join([ch.lower() for ch in sentence if ch not in string.punctuation])\n",
    "    sentence = ' '.join(stemmer.stem(w) for w in sentence.split())\n",
    "    tokens = nltk.tokenize.RegexpTokenizer(r'\\w+').tokenize(sentence)\n",
    "    return tokens\n",
    "\n",
    "df_train[\"question\"] = df_train[\"question\"].apply(prepare_text)\n",
    "df_train[\"answer\"] = df_train[\"answer\"].apply(prepare_text)"
   ]
  },
  {
   "cell_type": "code",
   "execution_count": 12,
   "metadata": {
    "scrolled": true
   },
   "outputs": [
    {
     "name": "stdout",
     "output_type": "stream",
     "text": [
      "read 87598 pairs\n",
      "filtered to 40716 pairs\n",
      "final number of pairs: 2500\n"
     ]
    }
   ],
   "source": [
    "def getPairs(df):\n",
    "    # convert df to list of pairs\n",
    "    temp1 = df['question'].apply(lambda x: \" \".join(x) ).to_list()\n",
    "    temp2 = df['answer'].apply(lambda x: \" \".join(x) ).to_list()\n",
    "    return [list(i) for i in zip(temp1, temp2)]\n",
    "\n",
    "pairs = getPairs(df_train)\n",
    "print(f\"read {len(pairs)} pairs\")\n",
    "\n",
    "# filter to shorter pairs\n",
    "MAX_LENGTH = 10\n",
    "def filterPair(p):\n",
    "    return len(p[0].split(' ')) < MAX_LENGTH and \\\n",
    "        len(p[1].split(' ')) < MAX_LENGTH\n",
    "\n",
    "def filterPairs(pairs):\n",
    "    return [pair for pair in pairs if filterPair(pair)]\n",
    "pairs = filterPairs(pairs)\n",
    "print(f\"filtered to {len(pairs)} pairs\")\n",
    "\n",
    "# reduce dataset size to reduce training time\n",
    "dataset_size = 2500\n",
    "pairs = pairs[:dataset_size]\n",
    "print(f\"final number of pairs: {len(pairs)}\")"
   ]
  },
  {
   "cell_type": "code",
   "execution_count": 14,
   "metadata": {},
   "outputs": [
    {
     "name": "stdout",
     "output_type": "stream",
     "text": [
      "['what is a cultur phenomenon', 'art']\n"
     ]
    }
   ],
   "source": [
    "# print random sentence and answer\n",
    "random_pair = random.choice(pairs)\n",
    "print(random_pair)"
   ]
  },
  {
   "cell_type": "code",
   "execution_count": 15,
   "metadata": {},
   "outputs": [
    {
     "name": "stdout",
     "output_type": "stream",
     "text": [
      "Added 2816 question words\n",
      "Added 2655 answer words\n"
     ]
    }
   ],
   "source": [
    "# create and populate vocab object\n",
    "vocab_questions = Vocab(\"questions\")\n",
    "vocab_answers = Vocab(\"answers\")\n",
    "for question, answer in pairs:\n",
    "    vocab_questions.addSentence(question)\n",
    "    vocab_answers.addSentence(answer)\n",
    "    \n",
    "# check words added\n",
    "print(f\"Added {vocab_questions.n_words} question words\")\n",
    "print(f\"Added {vocab_answers.n_words} answer words\")"
   ]
  },
  {
   "cell_type": "code",
   "execution_count": 16,
   "metadata": {},
   "outputs": [
    {
     "name": "stdout",
     "output_type": "stream",
     "text": [
      "['what new york thoroughfar is museum mile locat on', 'fifth avenu']\n"
     ]
    },
    {
     "data": {
      "text/plain": [
       "(tensor([[   2],\n",
       "         [ 451],\n",
       "         [2236],\n",
       "         [2466],\n",
       "         [   3],\n",
       "         [ 140],\n",
       "         [2300],\n",
       "         [ 274],\n",
       "         [  79],\n",
       "         [   1]], device='cuda:0'),\n",
       " tensor([[1528],\n",
       "         [2240],\n",
       "         [   1]], device='cuda:0'))"
      ]
     },
     "execution_count": 16,
     "metadata": {},
     "output_type": "execute_result"
    }
   ],
   "source": [
    "device = torch.device(\"cuda\" if torch.cuda.is_available() else \"cpu\")\n",
    "\n",
    "def indexesFromSentence(sentence, vocab):\n",
    "    # returns a list of indices representing the input sentence\n",
    "    return [vocab.word2index[word] for word in sentence.split(\" \")]\n",
    "\n",
    "def tensorFromSentence(sentence, vocab):\n",
    "    # appends a EOS token and returns a tensor list of indices representing the input sentence\n",
    "    indexes = indexesFromSentence(sentence, vocab)\n",
    "    indexes.append(EOS_token)\n",
    "    # view(-1, 1) specifies that we want the shape of 1 column and whatever number of rows to achieve that shape\n",
    "    return torch.tensor(indexes, dtype=torch.long, device=device).view(-1, 1)\n",
    "\n",
    "def tensorsFromPair(pair):\n",
    "    # combines the function above and returns question and answer tensors\n",
    "    question_tensor = tensorFromSentence(pair[0], vocab_questions)\n",
    "    answer_tensor = tensorFromSentence(pair[1], vocab_answers)\n",
    "    return (question_tensor, answer_tensor)\n",
    "\n",
    "# test functions\n",
    "random_pair = random.choice(pairs)\n",
    "print(random_pair)\n",
    "tensorsFromPair(random_pair)"
   ]
  },
  {
   "cell_type": "markdown",
   "metadata": {},
   "source": [
    "__Download the gensim embedding__"
   ]
  },
  {
   "cell_type": "code",
   "execution_count": 17,
   "metadata": {},
   "outputs": [
    {
     "name": "stdout",
     "output_type": "stream",
     "text": [
      "[==================================================] 100.0% 376.1/376.1MB downloaded\n",
      "300\n"
     ]
    }
   ],
   "source": [
    "glove_vectors = gensim.downloader.load(\"glove-wiki-gigaword-300\")\n",
    "\n",
    "embedding_dim = glove_vectors.vectors.shape[1]\n",
    "print(embedding_dim)"
   ]
  },
  {
   "cell_type": "markdown",
   "metadata": {},
   "source": [
    "_Explore embedding model_"
   ]
  },
  {
   "cell_type": "code",
   "execution_count": 18,
   "metadata": {},
   "outputs": [
    {
     "data": {
      "text/plain": [
       "[('woman', 0.6998663544654846),\n",
       " ('person', 0.6443442106246948),\n",
       " ('boy', 0.6208277940750122),\n",
       " ('he', 0.5926738381385803),\n",
       " ('men', 0.5819568634033203),\n",
       " ('himself', 0.5810033082962036),\n",
       " ('one', 0.5779521465301514),\n",
       " ('another', 0.5721587538719177),\n",
       " ('who', 0.5703631639480591),\n",
       " ('him', 0.5670831203460693)]"
      ]
     },
     "execution_count": 18,
     "metadata": {},
     "output_type": "execute_result"
    }
   ],
   "source": [
    "glove_vectors.most_similar(\"man\")"
   ]
  },
  {
   "cell_type": "code",
   "execution_count": 19,
   "metadata": {
    "scrolled": true
   },
   "outputs": [
    {
     "data": {
      "text/plain": [
       "array([-0.29784  , -0.13255  , -0.14505  , -0.22752  , -0.027429 ,\n",
       "        0.11005  , -0.039245 , -0.0089607, -0.18866  , -1.1213   ,\n",
       "        0.34793  , -0.30056  , -0.50103  , -0.031383 , -0.032185 ,\n",
       "        0.018318 , -0.090429 , -0.14427  , -0.14306  , -0.057477 ,\n",
       "       -0.020931 ,  0.56276  , -0.018557 ,  0.15168  , -0.25586  ,\n",
       "       -0.081564 ,  0.2803   , -0.10585  , -0.16777  ,  0.21814  ,\n",
       "       -0.11845  ,  0.56475  , -0.12645  , -0.062461 , -0.68043  ,\n",
       "        0.10507  ,  0.24793  , -0.20249  , -0.30726  ,  0.42815  ,\n",
       "        0.38378  , -0.19371  , -0.075951 , -0.058287 , -0.067195 ,\n",
       "        0.2192   ,  0.56116  , -0.28156  , -0.13705  ,  0.45754  ,\n",
       "       -0.14671  , -0.18562  , -0.074146 ,  0.60737  ,  0.07952  ,\n",
       "        0.41023  ,  0.18377  , -0.08532  ,  0.43795  , -0.34727  ,\n",
       "        0.2077   ,  0.50454  ,  0.40244  ,  0.1095   , -0.48078  ,\n",
       "       -0.22372  , -0.54619  , -0.20782  ,  0.13751  , -0.16206  ,\n",
       "       -0.24835  ,  0.17124  ,  0.037355 ,  0.14547  , -0.056205 ,\n",
       "        0.2644   , -0.38029  ,  0.0029947,  0.051608 ,  0.21807  ,\n",
       "       -0.071087 ,  0.31543  ,  0.24593  ,  0.34444  , -0.36354  ,\n",
       "       -0.12137  , -0.013511 ,  0.049564 ,  0.031386 ,  0.10316  ,\n",
       "       -0.44301  ,  0.11663  , -0.055576 , -0.091434 , -0.070799 ,\n",
       "       -0.017031 ,  0.046024 ,  0.096063 ,  0.10148  , -0.33467  ,\n",
       "       -0.043516 ,  0.38271  ,  0.018411 ,  0.0049479,  0.35587  ,\n",
       "        0.40432  ,  0.4823   ,  0.12416  , -0.051926 , -0.081769 ,\n",
       "       -0.21542  ,  0.71766  , -0.0052553, -0.55428  ,  0.68033  ,\n",
       "        0.20255  , -0.19927  , -0.11563  ,  0.0030103, -0.74399  ,\n",
       "       -0.21086  ,  0.069584 , -0.20315  , -0.17027  , -0.11292  ,\n",
       "       -0.044594 , -0.2145   ,  0.26097  ,  0.36969  , -0.65155  ,\n",
       "        0.048649 ,  0.044304 , -0.26604  ,  0.23976  , -0.38281  ,\n",
       "       -0.02353  , -0.020519 , -0.52202  , -0.30595  ,  0.088525 ,\n",
       "        0.28395  ,  0.15056  ,  0.23202  ,  0.30538  , -0.53674  ,\n",
       "        0.21362  ,  0.10999  ,  0.4685   , -0.60017  , -0.13141  ,\n",
       "        0.18707  ,  0.11636  ,  0.24703  ,  0.17168  ,  0.40658  ,\n",
       "       -0.19039  ,  0.033278 , -0.26374  ,  0.28722  ,  0.27659  ,\n",
       "        0.30153  , -0.12622  ,  0.5225   ,  0.13887  , -0.15012  ,\n",
       "       -0.0038264, -0.074287 ,  0.46348  ,  0.26215  , -0.62671  ,\n",
       "        0.21841  , -0.26531  , -0.75294  , -0.36826  ,  0.072989 ,\n",
       "       -0.071807 ,  0.10612  , -0.087064 , -0.053871 ,  0.22379  ,\n",
       "        0.38538  ,  0.053972 ,  0.21208  ,  0.39662  , -0.38609  ,\n",
       "       -0.53     , -0.34169  ,  0.067624 ,  0.11835  ,  0.60372  ,\n",
       "        0.21744  , -0.12806  ,  0.13802  ,  0.22463  , -0.21566  ,\n",
       "       -0.25167  , -0.44859  , -0.39111  , -0.5259   ,  0.21266  ,\n",
       "        1.9729   ,  0.13851  ,  0.32966  ,  0.047626 , -0.37787  ,\n",
       "       -0.31769  , -0.1283   ,  0.34396  , -0.11061  , -0.23346  ,\n",
       "       -0.45134  ,  0.1605   , -0.32801  ,  0.033373 ,  0.42571  ,\n",
       "        0.42283  , -0.16932  ,  0.14068  ,  0.14087  ,  0.20856  ,\n",
       "       -0.24912  ,  0.38337  ,  0.43722  , -0.090575 ,  0.021208 ,\n",
       "       -0.22334  , -0.42596  , -0.47252  , -0.1995   ,  0.32459  ,\n",
       "        0.39765  , -0.091573 , -0.073528 , -0.20074  ,  0.22083  ,\n",
       "        0.011314 ,  0.11977  , -0.14888  , -0.27152  ,  0.28908  ,\n",
       "        0.20407  ,  0.098377 , -0.1424   , -0.059699 ,  0.032529 ,\n",
       "       -0.1877   ,  0.24643  , -0.1128   ,  0.14666  ,  0.076001 ,\n",
       "        0.31109  , -0.22119  ,  0.033051 ,  0.066731 ,  1.5449   ,\n",
       "       -0.11096  ,  0.26438  ,  0.1791   ,  0.039628 , -0.46497  ,\n",
       "        0.40052  , -0.057004 ,  0.11391  ,  0.42397  , -0.57411  ,\n",
       "        0.17205  ,  0.44401  , -0.030134 , -0.22061  ,  0.47222  ,\n",
       "       -0.12734  , -0.12288  ,  0.33832  ,  0.41698  ,  0.18355  ,\n",
       "        0.093473 , -1.9373   ,  0.053236 , -0.10361  ,  0.056681 ,\n",
       "       -0.12726  , -0.11681  ,  0.55039  ,  0.33644  ,  0.27706  ,\n",
       "        0.71184  , -0.1304   ,  0.26108  , -0.2481   ,  0.0032735,\n",
       "       -0.16505  ,  0.11827  , -0.26322  , -0.10169  ,  0.24275  ,\n",
       "        0.16927  , -0.15809  ,  0.27613  , -0.2832   ,  0.50554  ],\n",
       "      dtype=float32)"
      ]
     },
     "execution_count": 19,
     "metadata": {},
     "output_type": "execute_result"
    }
   ],
   "source": [
    "glove_vectors[\"man\"]"
   ]
  },
  {
   "cell_type": "markdown",
   "metadata": {},
   "source": [
    "_Create weights matrix to map each word embedding to the word in the vocab_"
   ]
  },
  {
   "cell_type": "code",
   "execution_count": 20,
   "metadata": {},
   "outputs": [],
   "source": [
    "def create_vocab_weight_matrix(vocab, embed_dim=embedding_dim, glove=glove_vectors):\n",
    "\n",
    "    matrix_len = len(vocab.word2index) # length of vocab\n",
    "    weights_matrix = np.zeros((matrix_len, embed_dim)) # initialise empty weights matrix\n",
    "\n",
    "    words_found = 0\n",
    "    # add words to weights matrix\n",
    "    for i, word in enumerate(vocab.word2index):\n",
    "        try:\n",
    "            weights_matrix[i] = glove[word] # map to glove vector word embedding\n",
    "            words_found += 1\n",
    "        except KeyError:\n",
    "            weights_matrix[i] = np.random.normal(scale=0.6, size=(embedding_dim, )) # insert random weights\n",
    "            \n",
    "    return weights_matrix\n",
    "            \n",
    "vocab_questions_matrix = create_vocab_weight_matrix(vocab_questions)\n",
    "vocab_answers_matrix = create_vocab_weight_matrix(vocab_answers)\n",
    "\n",
    "# check\n",
    "print(vocab_questions_matrix[vocab_questions.word2index[\"who\"]] - glove_vectors[\"who\"])\n",
    "print(vocab_answers_matrix[vocab_answers.word2index[\"the\"]] - glove_vectors[\"the\"])"
   ]
  },
  {
   "cell_type": "markdown",
   "metadata": {},
   "source": [
    "__Define Model Structure__"
   ]
  },
  {
   "cell_type": "code",
   "execution_count": 22,
   "metadata": {
    "id": "oQLTP2Wmi1eB"
   },
   "outputs": [],
   "source": [
    "class Encoder(nn.Module):\n",
    "    \n",
    "    def __init__(self, input_size, embedding_size, hidden_size, num_layers=1):\n",
    "        super(Encoder, self).__init__()\n",
    "        \n",
    "        self.input_size = input_size\n",
    "        self.embedding_size = embedding_size\n",
    "        self.hidden_size = hidden_size\n",
    "        self.num_layers = num_layers\n",
    "        \n",
    "        self.embedding = nn.Embedding(input_size, embedding_size)\n",
    "        # copy loaded weights matrix into embedding weights - a vector representation of the model word inputs\n",
    "        self.embedding.weight.data.copy_(torch.from_numpy(vocab_questions_matrix))\n",
    "        # initialise lstm to take input dimension of embedding size and output hidden dimension\n",
    "        self.lstm = nn.LSTM(embedding_size, hidden_size, num_layers=num_layers)\n",
    "        \n",
    "    \n",
    "    def forward(self, src, hidden, cell_state):\n",
    "        \n",
    "        '''\n",
    "        Inputs: src, the src vector\n",
    "        Outputs: output, the encoder outputs\n",
    "                hidden, the hidden state\n",
    "                cell, the cell state\n",
    "        '''\n",
    "        # src shape: (seq_length, batch_size)\n",
    "        embedding = self.embedding(src).view(1, 1, -1)\n",
    "        # embedding shape: (seq_length, batch_size, embedding_size)\n",
    "        output, (hidden, cell) = self.lstm(embedding, (hidden, cell_state)) # output, hidden and cell state\n",
    "        \n",
    "        return output, hidden, cell\n",
    "    \n",
    "    def initHidden(self):# initialise zero tensor with shape (1, 1, hidden_size)\n",
    "        return torch.zeros(1, 1, self.hidden_size, device=device)\n",
    "    \n",
    "\n",
    "class Decoder(nn.Module):\n",
    "      \n",
    "    def __init__(self, input_size, embedding_size, hidden_size, output_size, num_layers=1):\n",
    "        super(Decoder, self).__init__()\n",
    "        \n",
    "        self.embedding_size = embedding_size\n",
    "        self.hidden_size = hidden_size\n",
    "        self.output_size = output_size # length of vocab\n",
    "        self.num_layers = num_layers        \n",
    "        \n",
    "        # self.embedding provides a vector representation of the target to our model\n",
    "        self.embedding = nn.Embedding(output_size, embedding_size)\n",
    "        # self.embedding.weight.data.copy_(torch.from_numpy(vocab_answers_matrix))\n",
    "        # self.lstm, accepts the embeddings and outputs a hidden state\n",
    "        self.lstm = nn.LSTM(embedding_size, hidden_size, num_layers=num_layers)\n",
    "        # self.output, predicts on the hidden state via a linear output layer\n",
    "        self.fc = nn.Linear(hidden_size, output_size)\n",
    "        self.softmax = nn.LogSoftmax(dim=1)\n",
    "        \n",
    "    def forward(self, trg, hidden, cell):\n",
    "        \n",
    "        '''\n",
    "        Inputs: trg, the target vector\n",
    "        Outputs: predictions, the predictions\n",
    "                hidden, the hidden state\n",
    "                cell, the cell state\n",
    "        '''\n",
    "        # shape of src is batch_size, but we want (1, batch_size)\n",
    "        # we want batch_size batches of a single word at a time\n",
    "        trg = trg.unsqueeze(0) # add one dimension\n",
    "        embedding = self.embedding(trg).view(1, 1, -1)\n",
    "        # embedding shape: (1, batch_size, embedding_size)\n",
    "        output, (hidden, cell) = self.lstm(embedding, (hidden, cell))\n",
    "        # shape of outputs: (1, batch_size, hidden_size)\n",
    "        predictions = self.softmax(self.fc(output[0]))\n",
    "        # shape of predictions: (1, batch_size, length_of_vocab)        \n",
    "        \n",
    "        return predictions, hidden, cell\n",
    "    \n",
    "    def initHidden(self): # initialise zero tensor with shape (1, 1, hidden_size)\n",
    "        return torch.zeros(1, 1, self.hidden_size, device=device)\n",
    "        \n",
    "\n",
    "class Seq2Seq(nn.Module):\n",
    "    \n",
    "    def __init__(self, encoder, decoder, device):\n",
    "        \n",
    "        super(Seq2Seq, self).__init__()\n",
    "        self.encoder = encoder\n",
    "        self.decoder = decoder\n",
    "        self.device=device\n",
    "    \n",
    "    # teacher forcing ratio - switch between using target and prediction words as inputs for next word\n",
    "    def forward(self, src, trg, max_trg_len=100, teacher_forcing_ratio = 0.5):\n",
    "        batch_size = src.shape[1]\n",
    "        \n",
    "        input_length = src.size(0) # how many question words\n",
    "        target_length = trg.size(0) if self.training else max_trg_len# how many answer words\n",
    "        \n",
    "        target_vocab_size = self.decoder.output_size\n",
    "        \n",
    "        encoder_hidden = torch.zeros([self.encoder.num_layers, 1, self.encoder.hidden_size]).to(device)\n",
    "        cell = torch.zeros([self.encoder.num_layers, 1, self.encoder.hidden_size]).to(device)\n",
    "        outputs = torch.zeros(target_length, batch_size, target_vocab_size).to(self.device)\n",
    "        \n",
    "        for i in range(input_length):\n",
    "            # process and encode the entire question\n",
    "            _, encoder_hidden, cell = self.encoder(src[i], encoder_hidden, cell)\n",
    "            \n",
    "        decoder_hidden = encoder_hidden # initialise decoder hidden state with encoder hidden state\n",
    "        decoder_input = torch.tensor([[SOS_token]]).to(device) # add SOS token as first predicted word\n",
    "        \n",
    "        for t in range(1, target_length):\n",
    "            output, decoder_hidden, cell = self.decoder(decoder_input, decoder_hidden, cell)\n",
    "            \n",
    "            outputs[t] = output # add decoder predictions array to outputs\n",
    "            # (batch_size, vocab_size)\n",
    "            best_guess = output.argmax(1) # get index of best word guess\n",
    "            teacher_force = False # initialise\n",
    "            if self.training:\n",
    "                # use target word if teacher forcing, else use word with the highest predicted value\n",
    "                teacher_force = random.random() < teacher_forcing_ratio # update where relevant\n",
    "                decoder_input = trg[t] if teacher_force else best_guess \n",
    "            else:\n",
    "                decoder_input = best_guess\n",
    "                \n",
    "            if (teacher_force == False and decoder_input.item() == EOS_token):\n",
    "                break\n",
    "            \n",
    "        return outputs"
   ]
  },
  {
   "cell_type": "markdown",
   "metadata": {},
   "source": [
    "__Train the model__"
   ]
  },
  {
   "cell_type": "code",
   "execution_count": 23,
   "metadata": {},
   "outputs": [],
   "source": [
    "# Helper functions\n",
    "\n",
    "def showPlot(points):\n",
    "    # This function plots the input points and sets defined tick intervals on the y axis\n",
    "    plt.figure()\n",
    "    fig, ax = plt.subplots()\n",
    "    \n",
    "    loc = ticker.MultipleLocator(base=0.2) # define tick intervals\n",
    "    ax.yaxis.set_major_locator(loc) # set y axis tick intervals\n",
    "    plt.plot(points)\n",
    "    \n",
    "def asMinutes(s):\n",
    "    # format seconds as minutes\n",
    "    m = math.floor(s / 60)\n",
    "    s -= m * 60\n",
    "    return \"%dm %ds\" % (m, s)\n",
    "\n",
    "def timeSince(since, percent):\n",
    "    # calculate the time between now and since\n",
    "    now = time.time()\n",
    "    s = now - since\n",
    "    es = s / (percent)\n",
    "    rs = es - s\n",
    "    return \"%s (- %s)\" % (asMinutes(s), asMinutes(rs))"
   ]
  },
  {
   "cell_type": "code",
   "execution_count": 43,
   "metadata": {},
   "outputs": [],
   "source": [
    "def calcModel(model, input_tensor, target_tensor, model_optimizer, criterion):\n",
    "    model_optimizer.zero_grad() # don't accumulate gradient\n",
    "    \n",
    "    loss = 0\n",
    "    epoch_loss = 0\n",
    "    \n",
    "    output = model(input_tensor, target_tensor)\n",
    "    \n",
    "    num_iter = output.size(0) # number of predicted words\n",
    "    \n",
    "    # calculate loss from predicted sentence with expected result\n",
    "    for ot in range(num_iter):\n",
    "        loss += criterion(output[ot], target_tensor[ot])\n",
    "    \n",
    "    loss.backward() # calculate gradients\n",
    "    model_optimizer.step() # update weights\n",
    "    epoch_loss = loss.item() / num_iter # avg loss\n",
    "    \n",
    "    return epoch_loss\n",
    "\n",
    "def trainModel(model, pairs, epochs, print_every=1000, plot_every=100, learning_rate=0.01):\n",
    "    start = time.time()\n",
    "    model.train()\n",
    "    \n",
    "    optimizer = optim.SGD(model.parameters(), lr=learning_rate, momentum=0.9)\n",
    "    \n",
    "    criterion = nn.NLLLoss() # crossentropyloss = softmax + NLLLoss\n",
    "    plot_losses = []\n",
    "    print_loss_total = 0 # reset every print_every\n",
    "    plot_loss_total = 0 # reset every plot_every\n",
    "    \n",
    "    n_pairs = len(pairs)\n",
    "    num_iterations= epochs * n_pairs\n",
    "    training_pairs = [tensorsFromPair(pairs[i]) for i in range(n_pairs)]\n",
    "    \n",
    "    end_training = False\n",
    "    for epoch in range(1, epochs + 1):\n",
    "        for iter_ in range(1, n_pairs+1):\n",
    "            training_pair = training_pairs[iter_ - 1]\n",
    "            input_tensor = training_pair[0]\n",
    "            target_tensor = training_pair[1]\n",
    "\n",
    "            loss = calcModel(model, input_tensor, target_tensor, optimizer, criterion)\n",
    "\n",
    "            print_loss_total += loss\n",
    "            plot_loss_total += loss        \n",
    "\n",
    "            if iter_ % print_every == 0:\n",
    "                print_loss_avg = print_loss_total / print_every\n",
    "                print_loss_total = 0\n",
    "                print(\"{0:s} ({1:d} {2:.0f}%), {3:.4f}\". format(timeSince(start, iter_*epoch / num_iterations),\n",
    "                                                     iter_*epoch, iter_*epoch / num_iterations * 100, print_loss_avg))\n",
    "                if print_loss_avg < 0.01:\n",
    "                    print(\"Stopped training early, as loss is sufficiently low\")\n",
    "                    end_training = True\n",
    "                    break\n",
    "\n",
    "            if iter_ % plot_every == 0:\n",
    "                plot_loss_avg = plot_loss_total / plot_every\n",
    "                plot_losses.append(plot_loss_avg)\n",
    "                plot_loss_total = 0\n",
    "        \n",
    "        if end_training:\n",
    "            break\n",
    "            \n",
    "    showPlot(plot_losses)\n",
    "            \n",
    "    torch.save(model.state_dict(), \"mytraining.pt\")\n",
    "    return model"
   ]
  },
  {
   "cell_type": "code",
   "execution_count": 44,
   "metadata": {},
   "outputs": [
    {
     "data": {
      "text/plain": [
       "Seq2Seq(\n",
       "  (encoder): Encoder(\n",
       "    (embedding): Embedding(2816, 300)\n",
       "    (lstm): LSTM(300, 1024)\n",
       "  )\n",
       "  (decoder): Decoder(\n",
       "    (embedding): Embedding(2655, 300)\n",
       "    (lstm): LSTM(300, 1024)\n",
       "    (fc): Linear(in_features=1024, out_features=2655, bias=True)\n",
       "    (softmax): LogSoftmax(dim=1)\n",
       "  )\n",
       ")"
      ]
     },
     "execution_count": 44,
     "metadata": {},
     "output_type": "execute_result"
    }
   ],
   "source": [
    "# Model hyperparameters\n",
    "input_size_enc = len(vocab_questions.word2index)\n",
    "input_size_dec = len(vocab_answers.word2index)\n",
    "output_size = len(vocab_answers.word2index)\n",
    "enc_embed_size = embedding_dim\n",
    "dec_embed_size = embedding_dim\n",
    "hidden_size = 1024\n",
    "num_layers = 1\n",
    "teacher_forcing_ratio = 0.5\n",
    "\n",
    "# Training hyperparameters\n",
    "learning_rate = 0.01\n",
    "epochs = 40\n",
    "num_iterations = dataset_size * epochs\n",
    "\n",
    "# initialise models\n",
    "encoder = Encoder(input_size_enc, enc_embed_size, hidden_size, num_layers=num_layers)\n",
    "decoder = Decoder(input_size_dec, dec_embed_size, hidden_size, output_size, num_layers=num_layers)\n",
    "model = Seq2Seq(encoder, decoder, device).to(device)\n",
    "model"
   ]
  },
  {
   "cell_type": "code",
   "execution_count": 45,
   "metadata": {},
   "outputs": [
    {
     "name": "stdout",
     "output_type": "stream",
     "text": [
      "1m 10s (- 46m 7s) (2500 2%), 2.0401\n",
      "2m 19s (- 44m 18s) (5000 5%), 1.9206\n",
      "3m 24s (- 42m 0s) (7500 8%), 1.8512\n",
      "4m 29s (- 40m 24s) (10000 10%), 1.7742\n",
      "5m 35s (- 39m 5s) (12500 12%), 1.6581\n",
      "6m 41s (- 37m 53s) (15000 15%), 1.5609\n",
      "7m 48s (- 36m 47s) (17500 18%), 1.4534\n",
      "8m 55s (- 35m 43s) (20000 20%), 1.2870\n",
      "10m 3s (- 34m 40s) (22500 22%), 1.1477\n",
      "11m 12s (- 33m 37s) (25000 25%), 0.9802\n",
      "12m 21s (- 32m 34s) (27500 28%), 0.8386\n",
      "13m 30s (- 31m 31s) (30000 30%), 0.6881\n",
      "14m 40s (- 30m 28s) (32500 32%), 0.5435\n",
      "15m 50s (- 29m 24s) (35000 35%), 0.4363\n",
      "17m 0s (- 28m 20s) (37500 38%), 0.3486\n",
      "18m 10s (- 27m 15s) (40000 40%), 0.2645\n",
      "19m 20s (- 26m 10s) (42500 42%), 0.1932\n",
      "20m 31s (- 25m 4s) (45000 45%), 0.1052\n",
      "21m 41s (- 23m 59s) (47500 48%), 0.0738\n",
      "22m 52s (- 22m 52s) (50000 50%), 0.0464\n",
      "24m 3s (- 21m 46s) (52500 52%), 0.0295\n",
      "25m 14s (- 20m 39s) (55000 55%), 0.0202\n",
      "26m 25s (- 19m 31s) (57500 57%), 0.0141\n",
      "27m 36s (- 18m 24s) (60000 60%), 0.0148\n",
      "28m 47s (- 17m 16s) (62500 62%), 0.0114\n",
      "29m 58s (- 16m 8s) (65000 65%), 0.0114\n",
      "31m 9s (- 15m 0s) (67500 68%), 0.0120\n",
      "32m 20s (- 13m 51s) (70000 70%), 0.0086\n",
      "Stopped training early, as loss is sufficiently low\n"
     ]
    },
    {
     "data": {
      "text/plain": [
       "<Figure size 432x288 with 0 Axes>"
      ]
     },
     "metadata": {},
     "output_type": "display_data"
    },
    {
     "data": {
      "image/png": "[encoded data removed]",
      "text/plain": [
       "<Figure size 432x288 with 1 Axes>"
      ]
     },
     "metadata": {
      "needs_background": "light"
     },
     "output_type": "display_data"
    }
   ],
   "source": [
    "# train model\n",
    "model_1 = trainModel(model, \n",
    "                     pairs, \n",
    "                     learning_rate=learning_rate, \n",
    "                     epochs=epochs, \n",
    "                     print_every=dataset_size)"
   ]
  },
  {
   "cell_type": "code",
   "execution_count": 50,
   "metadata": {},
   "outputs": [],
   "source": [
    "def evaluate(model, source, max_trg_len=100):\n",
    "    model.eval()\n",
    "    with torch.no_grad():\n",
    "        input_tensor = tensorFromSentence(source, vocab_questions)\n",
    "        input_length = input_tensor.size()[0]\n",
    "        \n",
    "        decoded_words = []\n",
    "        \n",
    "        output = model(input_tensor, None)\n",
    "        \n",
    "        for ot in range(max_trg_len):\n",
    "            topv, topi = output[ot].topk(1)\n",
    "            \n",
    "            if topi[0].item() == EOS_token:\n",
    "                decoded_words.append(\"<EOS>\")\n",
    "                break\n",
    "            else:\n",
    "                decoded_words.append(vocab_answers.index2word[topi[0].item()])\n",
    "    \n",
    "    return decoded_words\n",
    "\n",
    "def evaluateRandomly(model, pairs=pairs, n=10):\n",
    "    for i in range(n):\n",
    "        pair = random.choice(pairs)\n",
    "        print(f\"source: {pair[0]}\")\n",
    "        print(f\"target: {pair[1]}\")\n",
    "        try:\n",
    "            output_words = evaluate(model, pair[0])\n",
    "            output_sentence = \" \".join(output_words)\n",
    "            print(\"predicted: {}\".format(output_sentence))\n",
    "        except KeyError:\n",
    "            print(\"Word not found in vocabulary\")\n",
    "        \n",
    "def evaluateInput(model, input_sentence):\n",
    "    input_sentence = input_sentence.lower()\n",
    "    output_words = evaluate(model, input_sentence)\n",
    "    output_sentence = \" \".join(output_words)\n",
    "    print(\"predicted: {}\".format(output_sentence))"
   ]
  },
  {
   "cell_type": "code",
   "execution_count": 53,
   "metadata": {
    "scrolled": true
   },
   "outputs": [
    {
     "name": "stdout",
     "output_type": "stream",
     "text": [
      "source: when were video made avail through the itun store\n",
      "target: octob 12 2005\n",
      "predicted: <SOS> 12 2005 <EOS>\n",
      "source: chimamanda ngozi adichi vompar lee to whom\n",
      "target: william faulkner\n",
      "predicted: <SOS> faulkner <EOS>\n",
      "source: what edict did the ming issu\n",
      "target: imperi edict\n",
      "predicted: <SOS> edict <EOS>\n",
      "source: when did the austrian film of spectr finish\n",
      "target: februari 2015\n",
      "predicted: <SOS> 2015 <EOS>\n",
      "source: who was station along the boarder\n",
      "target: russian border troop\n",
      "predicted: <SOS> border troop <EOS>\n",
      "source: what year did the yongl emperor reign\n",
      "target: 1402 1424\n",
      "predicted: <SOS> 1424 <EOS>\n",
      "source: who are the deputi prime minist\n",
      "target: murodali alimardon and ruqiya qurbanova\n",
      "predicted: <SOS> alimardon and ruqiya qurbanova <EOS>\n",
      "source: how mani borough doe new york citi have\n",
      "target: five\n",
      "predicted: <SOS> <EOS>\n",
      "source: which three person from previous film appear in spectr\n",
      "target: m q and eve moneypenni\n",
      "predicted: <SOS> q and eve moneypenni <EOS>\n",
      "source: who is the develop of eddi street common\n",
      "target: kite realti\n",
      "predicted: <SOS> realti <EOS>\n"
     ]
    }
   ],
   "source": [
    "evaluateRandomly(model_1)"
   ]
  },
  {
   "cell_type": "code",
   "execution_count": null,
   "metadata": {},
   "outputs": [],
   "source": []
  }
 ],
 "metadata": {
  "colab": {
   "collapsed_sections": [],
   "name": "(Starter Code) LSTM Bot",
   "provenance": []
  },
  "kernelspec": {
   "display_name": "Python 3",
   "language": "python",
   "name": "python3"
  },
  "language_info": {
   "codemirror_mode": {
    "name": "ipython",
    "version": 3
   },
   "file_extension": ".py",
   "mimetype": "text/x-python",
   "name": "python",
   "nbconvert_exporter": "python",
   "pygments_lexer": "ipython3",
   "version": "3.7.6"
  }
 },
 "nbformat": 4,
 "nbformat_minor": 1
}
